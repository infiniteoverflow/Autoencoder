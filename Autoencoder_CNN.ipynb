{
  "nbformat": 4,
  "nbformat_minor": 0,
  "metadata": {
    "colab": {
      "name": "Autoencoder CNN.ipynb",
      "provenance": [],
      "authorship_tag": "ABX9TyPspQzCZYJNzPd3TU7OblfO",
      "include_colab_link": true
    },
    "kernelspec": {
      "name": "python3",
      "display_name": "Python 3"
    },
    "accelerator": "GPU"
  },
  "cells": [
    {
      "cell_type": "markdown",
      "metadata": {
        "id": "view-in-github",
        "colab_type": "text"
      },
      "source": [
        "<a href=\"https://colab.research.google.com/github/infiniteoverflow/Autoencoder/blob/master/Autoencoder_CNN.ipynb\" target=\"_parent\"><img src=\"https://colab.research.google.com/assets/colab-badge.svg\" alt=\"Open In Colab\"/></a>"
      ]
    },
    {
      "cell_type": "markdown",
      "metadata": {
        "id": "zOqtqMOklxop",
        "colab_type": "text"
      },
      "source": [
        "# Autoencoder\n",
        "\n",
        "Autoencoding is the process by which we provide an image as an input to a Neural Network , compresses it using a series of layers and use a decoder to generate back the input image.\n",
        "\n",
        "<img src=\"https://www.researchgate.net/profile/Xifeng_Guo/publication/320658590/figure/fig1/AS:614154637418504@1523437284408/The-structure-of-proposed-Convolutional-AutoEncoders-CAE-for-MNIST-In-the-middle-there.png\" align=\"right\">"
      ]
    },
    {
      "cell_type": "markdown",
      "metadata": {
        "id": "MkqFeJzrmxN6",
        "colab_type": "text"
      },
      "source": [
        "We will use the MNIST Digits dataset to train a neural network to perform autoencoding"
      ]
    },
    {
      "cell_type": "code",
      "metadata": {
        "id": "ril9irgPlq1W",
        "colab_type": "code",
        "colab": {}
      },
      "source": [
        "from torchvision import datasets,transforms\n",
        "from torch import nn\n",
        "import torch.nn.functional as F\n",
        "import torch.optim as optim\n",
        "import numpy as np\n",
        "import matplotlib.pyplot as plt\n",
        "import torch"
      ],
      "execution_count": 0,
      "outputs": []
    },
    {
      "cell_type": "code",
      "metadata": {
        "id": "31dswbyvnACa",
        "colab_type": "code",
        "colab": {}
      },
      "source": [
        "transform = transforms.Compose([transforms.ToTensor()])"
      ],
      "execution_count": 0,
      "outputs": []
    },
    {
      "cell_type": "code",
      "metadata": {
        "id": "L_F-7680naCK",
        "colab_type": "code",
        "colab": {}
      },
      "source": [
        "dataset = datasets.MNIST('/tmp/data',train=True,transform=transform,download=True)\n",
        "testdataset = datasets.MNIST('/tmp/data',train=False,transform=transform,download=True)\n",
        "\n",
        "loader = torch.utils.data.DataLoader(dataset,batch_size=20,shuffle=True)\n",
        "test_loader = torch.utils.data.DataLoader(testdataset,batch_size=20,shuffle=True)"
      ],
      "execution_count": 0,
      "outputs": []
    },
    {
      "cell_type": "code",
      "metadata": {
        "id": "SpzpImFQnzf8",
        "colab_type": "code",
        "colab": {
          "base_uri": "https://localhost:8080/",
          "height": 34
        },
        "outputId": "eca86303-4f10-459c-b8ed-252e59cb81ea"
      },
      "source": [
        "dataiter = iter(loader)\n",
        "\n",
        "images,labels = next(dataiter)\n",
        "\n",
        "images.shape"
      ],
      "execution_count": 46,
      "outputs": [
        {
          "output_type": "execute_result",
          "data": {
            "text/plain": [
              "torch.Size([20, 1, 28, 28])"
            ]
          },
          "metadata": {
            "tags": []
          },
          "execution_count": 46
        }
      ]
    },
    {
      "cell_type": "code",
      "metadata": {
        "id": "iKwFiObeoA-L",
        "colab_type": "code",
        "colab": {
          "base_uri": "https://localhost:8080/",
          "height": 337
        },
        "outputId": "93eb76c1-b5ed-47f6-a511-d3555698adaa"
      },
      "source": [
        "\n",
        "images = images.numpy()\n",
        "\n",
        "img = np.squeeze(images[0])\n",
        "\n",
        "fig = plt.figure(figsize = (5,5)) \n",
        "ax = fig.add_subplot(111)\n",
        "ax.imshow(img, cmap='gray')"
      ],
      "execution_count": 9,
      "outputs": [
        {
          "output_type": "execute_result",
          "data": {
            "text/plain": [
              "<matplotlib.image.AxesImage at 0x7fa0357bedd8>"
            ]
          },
          "metadata": {
            "tags": []
          },
          "execution_count": 9
        },
        {
          "output_type": "display_data",
          "data": {
            "image/png": "[encoded data removed]",
            "text/plain": [
              "<Figure size 360x360 with 1 Axes>"
            ]
          },
          "metadata": {
            "tags": [],
            "needs_background": "light"
          }
        }
      ]
    },
    {
      "cell_type": "markdown",
      "metadata": {
        "id": "9DA88xlEoZtZ",
        "colab_type": "text"
      },
      "source": [
        "## CNN Autoencoder"
      ]
    },
    {
      "cell_type": "code",
      "metadata": {
        "id": "4OTT0VOToEDj",
        "colab_type": "code",
        "colab": {}
      },
      "source": [
        "class CNNEncoder(nn.Module):\n",
        "  def __init__(self):\n",
        "    super().__init__()\n",
        "\n",
        "    self.conv1 = nn.Conv2d(1,16,3,padding=1)\n",
        "\n",
        "    self.conv2 = nn.Conv2d(16,4,3,padding=1)\n",
        "\n",
        "    self.pool = nn.MaxPool2d(2,2)\n",
        "\n",
        "    self.tconv1 = nn.ConvTranspose2d(4,16,2,stride=2)\n",
        "\n",
        "    self.tconv2 = nn.ConvTranspose2d(16,1,2,stride=2)\n",
        "\n",
        "  def forward(self,x):\n",
        "    \n",
        "    x = self.pool(F.relu(self.conv1(x)))\n",
        "\n",
        "    x = self.pool(F.relu(self.conv2(x)))\n",
        "\n",
        "    x = F.relu(self.tconv1(x))\n",
        "\n",
        "    x = torch.sigmoid(self.tconv2(x))\n",
        "\n",
        "    return x"
      ],
      "execution_count": 0,
      "outputs": []
    },
    {
      "cell_type": "code",
      "metadata": {
        "id": "nJMBwZiUpKG7",
        "colab_type": "code",
        "colab": {
          "base_uri": "https://localhost:8080/",
          "height": 34
        },
        "outputId": "49f19467-6892-43dd-c280-1e1aaca128da"
      },
      "source": [
        "model = CNNEncoder()\n",
        "\n",
        "if torch.cuda.is_available:\n",
        "  print(\"GPU Available\")\n",
        "  model.cuda()"
      ],
      "execution_count": 71,
      "outputs": [
        {
          "output_type": "stream",
          "text": [
            "GPU Available\n"
          ],
          "name": "stdout"
        }
      ]
    },
    {
      "cell_type": "code",
      "metadata": {
        "id": "QGpJU34ApT-v",
        "colab_type": "code",
        "colab": {
          "base_uri": "https://localhost:8080/",
          "height": 357
        },
        "outputId": "4620e2ed-ae43-4f56-9b98-179ccf42a774"
      },
      "source": [
        "epochs = 20\n",
        "\n",
        "criterion = nn.MSELoss()\n",
        "\n",
        "optimizer = optim.Adam(model.parameters(),lr=0.001)\n",
        "\n",
        "for epoch in range(epochs):\n",
        "\n",
        "  train_loss = 0\n",
        "\n",
        "  for image,label in loader:\n",
        "\n",
        "    if torch.cuda.is_available:\n",
        "      image , label = image.cuda(),label.cuda()\n",
        "\n",
        "    optimizer.zero_grad()\n",
        "\n",
        "    output = model(image)\n",
        "\n",
        "    loss = criterion(output,image)\n",
        "\n",
        "    loss.backward()\n",
        "\n",
        "    optimizer.step()\n",
        "    \n",
        "    train_loss += loss.item()*image.size(0)\n",
        "  \n",
        "  train_loss = train_loss/len(loader)\n",
        "  print('Epoch: {} \\tTraining Loss: {:.6f}'.format(\n",
        "      epoch, \n",
        "      train_loss\n",
        "  ))"
      ],
      "execution_count": 72,
      "outputs": [
        {
          "output_type": "stream",
          "text": [
            "Epoch: 0 \tTraining Loss: 0.561269\n",
            "Epoch: 1 \tTraining Loss: 0.344539\n",
            "Epoch: 2 \tTraining Loss: 0.314955\n",
            "Epoch: 3 \tTraining Loss: 0.294105\n",
            "Epoch: 4 \tTraining Loss: 0.280059\n",
            "Epoch: 5 \tTraining Loss: 0.271577\n",
            "Epoch: 6 \tTraining Loss: 0.266054\n",
            "Epoch: 7 \tTraining Loss: 0.261760\n",
            "Epoch: 8 \tTraining Loss: 0.258584\n",
            "Epoch: 9 \tTraining Loss: 0.256136\n",
            "Epoch: 10 \tTraining Loss: 0.254345\n",
            "Epoch: 11 \tTraining Loss: 0.252932\n",
            "Epoch: 12 \tTraining Loss: 0.251691\n",
            "Epoch: 13 \tTraining Loss: 0.250720\n",
            "Epoch: 14 \tTraining Loss: 0.249815\n",
            "Epoch: 15 \tTraining Loss: 0.248947\n",
            "Epoch: 16 \tTraining Loss: 0.248078\n",
            "Epoch: 17 \tTraining Loss: 0.247246\n",
            "Epoch: 18 \tTraining Loss: 0.246511\n",
            "Epoch: 19 \tTraining Loss: 0.245723\n"
          ],
          "name": "stdout"
        }
      ]
    },
    {
      "cell_type": "code",
      "metadata": {
        "id": "JS6-T-yVr2DG",
        "colab_type": "code",
        "colab": {
          "base_uri": "https://localhost:8080/",
          "height": 256
        },
        "outputId": "64102f2f-b742-4ccc-ca85-d324d96496e6"
      },
      "source": [
        "# obtain one batch of test images\n",
        "dataiter = iter(test_loader)\n",
        "images, labels = dataiter.next()\n",
        "\n",
        "if torch.cuda.is_available:\n",
        "  images , labels = images.cuda(),labels.cuda()\n",
        "\n",
        "images_flatten = images.view(images.size(0),1,28,28)\n",
        "\n",
        "print(image_flatten.shape)\n",
        "# get sample outputs\n",
        "output = model(images_flatten)\n",
        "# prep images for display\n",
        "images = images.cpu().numpy()\n",
        "\n",
        "# output is resized into a batch of images\n",
        "output = output.view(20, 1, 28, 28)\n",
        "# use detach when it's an output that requires_grad\n",
        "output = output.detach().cpu().numpy()\n",
        "\n",
        "# plot the first ten input images and then reconstructed images\n",
        "fig, axes = plt.subplots(nrows=2, ncols=10, sharex=True, sharey=True, figsize=(25,4))\n",
        "\n",
        "# input images on top row, reconstructions on bottom\n",
        "for images, row in zip([images, output], axes):\n",
        "    for img, ax in zip(images, row):\n",
        "        ax.imshow(np.squeeze(img), cmap='gray')\n",
        "        ax.get_xaxis().set_visible(False)\n",
        "        ax.get_yaxis().set_visible(False)"
      ],
      "execution_count": 77,
      "outputs": [
        {
          "output_type": "stream",
          "text": [
            "torch.Size([20, 784])\n"
          ],
          "name": "stdout"
        },
        {
          "output_type": "display_data",
          "data": {
            "image/png": "[encoded data removed]",
            "text/plain": [
              "<Figure size 1800x288 with 20 Axes>"
            ]
          },
          "metadata": {
            "tags": [],
            "needs_background": "light"
          }
        }
      ]
    },
    {
      "cell_type": "code",
      "metadata": {
        "id": "8X7x7b5HwpG7",
        "colab_type": "code",
        "colab": {}
      },
      "source": [
        ""
      ],
      "execution_count": 0,
      "outputs": []
    }
  ]
}