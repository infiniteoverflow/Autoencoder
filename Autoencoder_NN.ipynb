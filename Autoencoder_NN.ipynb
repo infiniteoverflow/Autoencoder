{
  "nbformat": 4,
  "nbformat_minor": 0,
  "metadata": {
    "colab": {
      "name": "Autoencoder NN.ipynb",
      "provenance": [],
      "authorship_tag": "ABX9TyPKCrt7adce5BkiiFsXDCR6",
      "include_colab_link": true
    },
    "kernelspec": {
      "name": "python3",
      "display_name": "Python 3"
    },
    "accelerator": "GPU"
  },
  "cells": [
    {
      "cell_type": "markdown",
      "metadata": {
        "id": "view-in-github",
        "colab_type": "text"
      },
      "source": [
        "<a href=\"https://colab.research.google.com/github/infiniteoverflow/Autoencoder/blob/master/Autoencoder_NN.ipynb\" target=\"_parent\"><img src=\"https://colab.research.google.com/assets/colab-badge.svg\" alt=\"Open In Colab\"/></a>"
      ]
    },
    {
      "cell_type": "markdown",
      "metadata": {
        "id": "zOqtqMOklxop",
        "colab_type": "text"
      },
      "source": [
        "# Autoencoder\n",
        "\n",
        "Autoencoding is the process by which we provide an image as an input to a Neural Network , compresses it using a series of layers and use a decoder to generate back the input image.\n",
        "\n",
        "<img src=\"https://www.researchgate.net/profile/Xifeng_Guo/publication/320658590/figure/fig1/AS:614154637418504@1523437284408/The-structure-of-proposed-Convolutional-AutoEncoders-CAE-for-MNIST-In-the-middle-there.png\" align=\"right\">"
      ]
    },
    {
      "cell_type": "markdown",
      "metadata": {
        "id": "MkqFeJzrmxN6",
        "colab_type": "text"
      },
      "source": [
        "We will use the MNIST Digits dataset to train a neural network to perform autoencoding"
      ]
    },
    {
      "cell_type": "code",
      "metadata": {
        "id": "ril9irgPlq1W",
        "colab_type": "code",
        "colab": {}
      },
      "source": [
        "from torchvision import datasets,transforms\n",
        "from torch import nn\n",
        "import torch.nn.functional as F\n",
        "import torch.optim as optim\n",
        "import numpy as np\n",
        "import matplotlib.pyplot as plt\n",
        "import torch"
      ],
      "execution_count": 0,
      "outputs": []
    },
    {
      "cell_type": "code",
      "metadata": {
        "id": "31dswbyvnACa",
        "colab_type": "code",
        "colab": {}
      },
      "source": [
        "transform = transforms.Compose([transforms.ToTensor()])"
      ],
      "execution_count": 0,
      "outputs": []
    },
    {
      "cell_type": "code",
      "metadata": {
        "id": "L_F-7680naCK",
        "colab_type": "code",
        "colab": {}
      },
      "source": [
        "dataset = datasets.MNIST('/tmp/data',train=True,transform=transform,download=True)\n",
        "testdataset = datasets.MNIST('/tmp/data',train=False,transform=transform,download=True)\n",
        "\n",
        "loader = torch.utils.data.DataLoader(dataset,batch_size=20,shuffle=True)\n",
        "test_loader = torch.utils.data.DataLoader(testdataset,batch_size=20,shuffle=True)"
      ],
      "execution_count": 0,
      "outputs": []
    },
    {
      "cell_type": "code",
      "metadata": {
        "id": "SpzpImFQnzf8",
        "colab_type": "code",
        "colab": {
          "base_uri": "https://localhost:8080/",
          "height": 34
        },
        "outputId": "eca86303-4f10-459c-b8ed-252e59cb81ea"
      },
      "source": [
        "dataiter = iter(loader)\n",
        "\n",
        "images,labels = next(dataiter)\n",
        "\n",
        "images.shape"
      ],
      "execution_count": 46,
      "outputs": [
        {
          "output_type": "execute_result",
          "data": {
            "text/plain": [
              "torch.Size([20, 1, 28, 28])"
            ]
          },
          "metadata": {
            "tags": []
          },
          "execution_count": 46
        }
      ]
    },
    {
      "cell_type": "code",
      "metadata": {
        "id": "iKwFiObeoA-L",
        "colab_type": "code",
        "colab": {
          "base_uri": "https://localhost:8080/",
          "height": 337
        },
        "outputId": "93eb76c1-b5ed-47f6-a511-d3555698adaa"
      },
      "source": [
        "\n",
        "images = images.numpy()\n",
        "\n",
        "img = np.squeeze(images[0])\n",
        "\n",
        "fig = plt.figure(figsize = (5,5)) \n",
        "ax = fig.add_subplot(111)\n",
        "ax.imshow(img, cmap='gray')"
      ],
      "execution_count": 9,
      "outputs": [
        {
          "output_type": "execute_result",
          "data": {
            "text/plain": [
              "<matplotlib.image.AxesImage at 0x7fa0357bedd8>"
            ]
          },
          "metadata": {
            "tags": []
          },
          "execution_count": 9
        },
        {
          "output_type": "display_data",
          "data": {
            "image/png": "[encoded data removed]",
            "text/plain": [
              "<Figure size 360x360 with 1 Axes>"
            ]
          },
          "metadata": {
            "tags": [],
            "needs_background": "light"
          }
        }
      ]
    },
    {
      "cell_type": "markdown",
      "metadata": {
        "id": "9DA88xlEoZtZ",
        "colab_type": "text"
      },
      "source": [
        "## Linear Autoencoder"
      ]
    },
    {
      "cell_type": "code",
      "metadata": {
        "id": "4OTT0VOToEDj",
        "colab_type": "code",
        "colab": {}
      },
      "source": [
        "class LinearEncoder(nn.Module):\n",
        "  def __init__(self):\n",
        "    super().__init__()\n",
        "\n",
        "    self.fc1 = nn.Linear(784,32)\n",
        "\n",
        "    self.fc2 = nn.Linear(32,784)\n",
        "\n",
        "  def forward(self,x):\n",
        "    x = x.view(-1,784)    \n",
        "    x = F.relu(self.fc1(x))\n",
        "    x = F.sigmoid(self.fc2(x))\n",
        "    return x"
      ],
      "execution_count": 0,
      "outputs": []
    },
    {
      "cell_type": "code",
      "metadata": {
        "id": "nJMBwZiUpKG7",
        "colab_type": "code",
        "colab": {
          "base_uri": "https://localhost:8080/",
          "height": 34
        },
        "outputId": "9d6a9ba8-3da7-4436-c1e2-672ac24874f5"
      },
      "source": [
        "model = LinearEncoder()\n",
        "\n",
        "if torch.cuda.is_available:\n",
        "  print(\"GPU Available\")\n",
        "  model.cuda()"
      ],
      "execution_count": 41,
      "outputs": [
        {
          "output_type": "stream",
          "text": [
            "GPU Available\n"
          ],
          "name": "stdout"
        }
      ]
    },
    {
      "cell_type": "code",
      "metadata": {
        "id": "QGpJU34ApT-v",
        "colab_type": "code",
        "colab": {
          "base_uri": "https://localhost:8080/",
          "height": 391
        },
        "outputId": "14231373-9cd9-4265-81b1-7b71f3d4a597"
      },
      "source": [
        "epochs = 20\n",
        "\n",
        "criterion = nn.MSELoss()\n",
        "\n",
        "optimizer = optim.Adam(model.parameters(),lr=0.001)\n",
        "\n",
        "for epoch in range(epochs):\n",
        "\n",
        "  train_loss = 0\n",
        "\n",
        "  for image,label in loader:\n",
        "\n",
        "    if torch.cuda.is_available:\n",
        "      image , label = image.cuda(),label.cuda()\n",
        "\n",
        "    image = image.view(image.size(0), -1)\n",
        "\n",
        "    optimizer.zero_grad()\n",
        "\n",
        "    output = model(image)\n",
        "\n",
        "    loss = criterion(output,image)\n",
        "\n",
        "    loss.backward()\n",
        "\n",
        "    optimizer.step()\n",
        "    \n",
        "    train_loss += loss.item()*image.size(0)\n",
        "  \n",
        "  train_loss = train_loss/len(loader)\n",
        "  print('Epoch: {} \\tTraining Loss: {:.6f}'.format(\n",
        "      epoch, \n",
        "      train_loss\n",
        "  ))"
      ],
      "execution_count": 42,
      "outputs": [
        {
          "output_type": "stream",
          "text": [
            "/usr/local/lib/python3.6/dist-packages/torch/nn/functional.py:1351: UserWarning: nn.functional.sigmoid is deprecated. Use torch.sigmoid instead.\n",
            "  warnings.warn(\"nn.functional.sigmoid is deprecated. Use torch.sigmoid instead.\")\n"
          ],
          "name": "stderr"
        },
        {
          "output_type": "stream",
          "text": [
            "Epoch: 0 \tTraining Loss: 0.668606\n",
            "Epoch: 1 \tTraining Loss: 0.359956\n",
            "Epoch: 2 \tTraining Loss: 0.335639\n",
            "Epoch: 3 \tTraining Loss: 0.328674\n",
            "Epoch: 4 \tTraining Loss: 0.324868\n",
            "Epoch: 5 \tTraining Loss: 0.322507\n",
            "Epoch: 6 \tTraining Loss: 0.320691\n",
            "Epoch: 7 \tTraining Loss: 0.319102\n",
            "Epoch: 8 \tTraining Loss: 0.317751\n",
            "Epoch: 9 \tTraining Loss: 0.316368\n",
            "Epoch: 10 \tTraining Loss: 0.315304\n",
            "Epoch: 11 \tTraining Loss: 0.314271\n",
            "Epoch: 12 \tTraining Loss: 0.313295\n",
            "Epoch: 13 \tTraining Loss: 0.312481\n",
            "Epoch: 14 \tTraining Loss: 0.311718\n",
            "Epoch: 15 \tTraining Loss: 0.311022\n",
            "Epoch: 16 \tTraining Loss: 0.310349\n",
            "Epoch: 17 \tTraining Loss: 0.309629\n",
            "Epoch: 18 \tTraining Loss: 0.309131\n",
            "Epoch: 19 \tTraining Loss: 0.308573\n"
          ],
          "name": "stdout"
        }
      ]
    },
    {
      "cell_type": "code",
      "metadata": {
        "id": "JS6-T-yVr2DG",
        "colab_type": "code",
        "colab": {
          "base_uri": "https://localhost:8080/",
          "height": 273
        },
        "outputId": "d5afb567-d19c-4071-9e28-b9b0918b3fda"
      },
      "source": [
        "# obtain one batch of test images\n",
        "dataiter = iter(test_loader)\n",
        "images, labels = dataiter.next()\n",
        "\n",
        "if torch.cuda.is_available:\n",
        "  images , labels = images.cuda(),labels.cuda()\n",
        "\n",
        "images_flatten = images.view(images.size(0), -1)\n",
        "# get sample outputs\n",
        "output = model(images_flatten)\n",
        "# prep images for display\n",
        "images = images.cpu().numpy()\n",
        "\n",
        "# output is resized into a batch of images\n",
        "output = output.view(20, 1, 28, 28)\n",
        "# use detach when it's an output that requires_grad\n",
        "output = output.detach().cpu().numpy()\n",
        "\n",
        "# plot the first ten input images and then reconstructed images\n",
        "fig, axes = plt.subplots(nrows=2, ncols=10, sharex=True, sharey=True, figsize=(25,4))\n",
        "\n",
        "# input images on top row, reconstructions on bottom\n",
        "for images, row in zip([images, output], axes):\n",
        "    for img, ax in zip(images, row):\n",
        "        ax.imshow(np.squeeze(img), cmap='gray')\n",
        "        ax.get_xaxis().set_visible(False)\n",
        "        ax.get_yaxis().set_visible(False)"
      ],
      "execution_count": 52,
      "outputs": [
        {
          "output_type": "stream",
          "text": [
            "/usr/local/lib/python3.6/dist-packages/torch/nn/functional.py:1351: UserWarning: nn.functional.sigmoid is deprecated. Use torch.sigmoid instead.\n",
            "  warnings.warn(\"nn.functional.sigmoid is deprecated. Use torch.sigmoid instead.\")\n"
          ],
          "name": "stderr"
        },
        {
          "output_type": "display_data",
          "data": {
            "image/png": "[encoded data removed]",
            "text/plain": [
              "<Figure size 1800x288 with 20 Axes>"
            ]
          },
          "metadata": {
            "tags": [],
            "needs_background": "light"
          }
        }
      ]
    },
    {
      "cell_type": "code",
      "metadata": {
        "id": "8X7x7b5HwpG7",
        "colab_type": "code",
        "colab": {}
      },
      "source": [
        ""
      ],
      "execution_count": 0,
      "outputs": []
    }
  ]
}